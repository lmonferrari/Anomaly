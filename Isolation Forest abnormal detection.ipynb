{
 "cells": [
  {
   "cell_type": "code",
   "execution_count": 1,
   "id": "7d9b8d28",
   "metadata": {},
   "outputs": [],
   "source": [
    "import pandas as pd\n",
    "import numpy as np\n",
    "import matplotlib.pyplot as plt\n",
    "import seaborn as sns\n",
    "\n",
    "from pyod.utils.data import generate_data\n",
    "from sklearn.ensemble import IsolationForest"
   ]
  },
  {
   "cell_type": "markdown",
   "id": "ae6e3be2",
   "metadata": {},
   "source": [
    "#### Data syntetic generation"
   ]
  },
  {
   "cell_type": "code",
   "execution_count": 2,
   "id": "8f45dd3c",
   "metadata": {},
   "outputs": [],
   "source": [
    "X_train, X_test, y_train, y_test = generate_data(behaviour='new', random_state=42)"
   ]
  },
  {
   "cell_type": "code",
   "execution_count": 3,
   "id": "d0e52e62",
   "metadata": {},
   "outputs": [
    {
     "data": {
      "image/png": "[encoded data removed]",
      "text/plain": [
       "<Figure size 432x288 with 1 Axes>"
      ]
     },
     "metadata": {
      "needs_background": "light"
     },
     "output_type": "display_data"
    }
   ],
   "source": [
    "sns.boxplot(y=X_train)\n",
    "plt.show()"
   ]
  },
  {
   "cell_type": "markdown",
   "id": "0e825fb7",
   "metadata": {},
   "source": [
    "Using the boxplot we can see a lot of outliers above the lower fence, lets test its creating a model using the Isolation Forest"
   ]
  },
  {
   "cell_type": "markdown",
   "id": "eeb30d69",
   "metadata": {},
   "source": [
    "#### Creating and training the detection model"
   ]
  },
  {
   "cell_type": "code",
   "execution_count": 4,
   "id": "d579491d",
   "metadata": {},
   "outputs": [
    {
     "data": {
      "text/plain": [
       "IsolationForest(bootstrap=True, n_estimators=1000)"
      ]
     },
     "execution_count": 4,
     "metadata": {},
     "output_type": "execute_result"
    }
   ],
   "source": [
    "isf = IsolationForest(n_estimators=1000, bootstrap=True)\n",
    "isf.fit(X_train) # unsupervised"
   ]
  },
  {
   "cell_type": "code",
   "execution_count": 5,
   "id": "f4391cc2",
   "metadata": {},
   "outputs": [],
   "source": [
    "X_test = pd.DataFrame(X_test, columns=['column_a', 'column_b'])\n",
    "y_test = pd.DataFrame(y_test, columns=['target'])\n",
    "df = pd.concat([X_test, y_test], axis=1)"
   ]
  },
  {
   "cell_type": "markdown",
   "id": "99c25cdd",
   "metadata": {},
   "source": [
    "#### Counting how many outliers do we have in this dataset\n",
    "The target variable here is only for convinience and test, its not used to train our model"
   ]
  },
  {
   "cell_type": "code",
   "execution_count": 6,
   "id": "6636eb2d",
   "metadata": {},
   "outputs": [
    {
     "data": {
      "text/plain": [
       "50"
      ]
     },
     "execution_count": 6,
     "metadata": {},
     "output_type": "execute_result"
    }
   ],
   "source": [
    "df['target'][df['target'] == 1].count()"
   ]
  },
  {
   "cell_type": "markdown",
   "id": "5b2b1a8c",
   "metadata": {},
   "source": [
    "#### Predicting the outliers"
   ]
  },
  {
   "cell_type": "code",
   "execution_count": 7,
   "id": "f375a8a2",
   "metadata": {},
   "outputs": [],
   "source": [
    "df['predict'] = isf.fit_predict(X_test)"
   ]
  },
  {
   "cell_type": "markdown",
   "id": "4a6fcbbf",
   "metadata": {},
   "source": [
    "#### Our brand new data drame"
   ]
  },
  {
   "cell_type": "code",
   "execution_count": 8,
   "id": "5a2a0e0a",
   "metadata": {},
   "outputs": [
    {
     "data": {
      "text/html": [
       "<div>\n",
       "<style scoped>\n",
       "    .dataframe tbody tr th:only-of-type {\n",
       "        vertical-align: middle;\n",
       "    }\n",
       "\n",
       "    .dataframe tbody tr th {\n",
       "        vertical-align: top;\n",
       "    }\n",
       "\n",
       "    .dataframe thead th {\n",
       "        text-align: right;\n",
       "    }\n",
       "</style>\n",
       "<table border=\"1\" class=\"dataframe\">\n",
       "  <thead>\n",
       "    <tr style=\"text-align: right;\">\n",
       "      <th></th>\n",
       "      <th>column_a</th>\n",
       "      <th>column_b</th>\n",
       "      <th>target</th>\n",
       "      <th>predict</th>\n",
       "    </tr>\n",
       "  </thead>\n",
       "  <tbody>\n",
       "    <tr>\n",
       "      <th>0</th>\n",
       "      <td>6.173238</td>\n",
       "      <td>5.723545</td>\n",
       "      <td>0.0</td>\n",
       "      <td>1</td>\n",
       "    </tr>\n",
       "    <tr>\n",
       "      <th>1</th>\n",
       "      <td>4.464880</td>\n",
       "      <td>5.937299</td>\n",
       "      <td>0.0</td>\n",
       "      <td>1</td>\n",
       "    </tr>\n",
       "    <tr>\n",
       "      <th>2</th>\n",
       "      <td>8.595721</td>\n",
       "      <td>5.007491</td>\n",
       "      <td>0.0</td>\n",
       "      <td>-1</td>\n",
       "    </tr>\n",
       "    <tr>\n",
       "      <th>3</th>\n",
       "      <td>4.552561</td>\n",
       "      <td>7.544354</td>\n",
       "      <td>0.0</td>\n",
       "      <td>-1</td>\n",
       "    </tr>\n",
       "    <tr>\n",
       "      <th>4</th>\n",
       "      <td>6.591843</td>\n",
       "      <td>6.149475</td>\n",
       "      <td>0.0</td>\n",
       "      <td>1</td>\n",
       "    </tr>\n",
       "    <tr>\n",
       "      <th>...</th>\n",
       "      <td>...</td>\n",
       "      <td>...</td>\n",
       "      <td>...</td>\n",
       "      <td>...</td>\n",
       "    </tr>\n",
       "    <tr>\n",
       "      <th>495</th>\n",
       "      <td>4.955172</td>\n",
       "      <td>-1.922757</td>\n",
       "      <td>1.0</td>\n",
       "      <td>-1</td>\n",
       "    </tr>\n",
       "    <tr>\n",
       "      <th>496</th>\n",
       "      <td>-0.532570</td>\n",
       "      <td>2.137366</td>\n",
       "      <td>1.0</td>\n",
       "      <td>-1</td>\n",
       "    </tr>\n",
       "    <tr>\n",
       "      <th>497</th>\n",
       "      <td>0.516257</td>\n",
       "      <td>-1.837368</td>\n",
       "      <td>1.0</td>\n",
       "      <td>-1</td>\n",
       "    </tr>\n",
       "    <tr>\n",
       "      <th>498</th>\n",
       "      <td>-0.772263</td>\n",
       "      <td>3.533770</td>\n",
       "      <td>1.0</td>\n",
       "      <td>-1</td>\n",
       "    </tr>\n",
       "    <tr>\n",
       "      <th>499</th>\n",
       "      <td>-2.662450</td>\n",
       "      <td>-4.292937</td>\n",
       "      <td>1.0</td>\n",
       "      <td>-1</td>\n",
       "    </tr>\n",
       "  </tbody>\n",
       "</table>\n",
       "<p>500 rows × 4 columns</p>\n",
       "</div>"
      ],
      "text/plain": [
       "     column_a  column_b  target  predict\n",
       "0    6.173238  5.723545     0.0        1\n",
       "1    4.464880  5.937299     0.0        1\n",
       "2    8.595721  5.007491     0.0       -1\n",
       "3    4.552561  7.544354     0.0       -1\n",
       "4    6.591843  6.149475     0.0        1\n",
       "..        ...       ...     ...      ...\n",
       "495  4.955172 -1.922757     1.0       -1\n",
       "496 -0.532570  2.137366     1.0       -1\n",
       "497  0.516257 -1.837368     1.0       -1\n",
       "498 -0.772263  3.533770     1.0       -1\n",
       "499 -2.662450 -4.292937     1.0       -1\n",
       "\n",
       "[500 rows x 4 columns]"
      ]
     },
     "execution_count": 8,
     "metadata": {},
     "output_type": "execute_result"
    }
   ],
   "source": [
    "df"
   ]
  },
  {
   "cell_type": "markdown",
   "id": "89c75cc0",
   "metadata": {},
   "source": [
    "#### Lets verify if we did a good job using test set of data"
   ]
  },
  {
   "cell_type": "markdown",
   "id": "f815a807",
   "metadata": {},
   "source": [
    "real outlier"
   ]
  },
  {
   "cell_type": "code",
   "execution_count": 9,
   "id": "55f072c3",
   "metadata": {},
   "outputs": [
    {
     "data": {
      "text/plain": [
       "-1    98.0\n",
       " 1     2.0\n",
       "Name: predict, dtype: float64"
      ]
     },
     "execution_count": 9,
     "metadata": {},
     "output_type": "execute_result"
    }
   ],
   "source": [
    "df['predict'].loc[df['target'] == 1].value_counts(normalize=True).mul(100)"
   ]
  },
  {
   "cell_type": "markdown",
   "id": "693158da",
   "metadata": {},
   "source": [
    "not outlier"
   ]
  },
  {
   "cell_type": "code",
   "execution_count": 10,
   "id": "28a04db4",
   "metadata": {},
   "outputs": [
    {
     "data": {
      "text/plain": [
       " 1    90.888889\n",
       "-1     9.111111\n",
       "Name: predict, dtype: float64"
      ]
     },
     "execution_count": 10,
     "metadata": {},
     "output_type": "execute_result"
    }
   ],
   "source": [
    "df['predict'].loc[df['target'] == 0].value_counts(normalize=True).mul(100)"
   ]
  },
  {
   "cell_type": "markdown",
   "id": "fd273563",
   "metadata": {},
   "source": [
    "As we can see, the Isolate Forest did a good job with new set of data"
   ]
  }
 ],
 "metadata": {
  "kernelspec": {
   "display_name": "Python 3 (ipykernel)",
   "language": "python",
   "name": "python3"
  },
  "language_info": {
   "codemirror_mode": {
    "name": "ipython",
    "version": 3
   },
   "file_extension": ".py",
   "mimetype": "text/x-python",
   "name": "python",
   "nbconvert_exporter": "python",
   "pygments_lexer": "ipython3",
   "version": "3.9.7"
  },
  "varInspector": {
   "cols": {
    "lenName": 16,
    "lenType": 16,
    "lenVar": "60"
   },
   "kernels_config": {
    "python": {
     "delete_cmd_postfix": "",
     "delete_cmd_prefix": "del ",
     "library": "var_list.py",
     "varRefreshCmd": "print(var_dic_list())"
    },
    "r": {
     "delete_cmd_postfix": ") ",
     "delete_cmd_prefix": "rm(",
     "library": "var_list.r",
     "varRefreshCmd": "cat(var_dic_list()) "
    }
   },
   "types_to_exclude": [
    "module",
    "function",
    "builtin_function_or_method",
    "instance",
    "_Feature"
   ],
   "window_display": false
  }
 },
 "nbformat": 4,
 "nbformat_minor": 5
}
